{
 "cells": [
  {
   "cell_type": "code",
   "execution_count": 114,
   "id": "8eeeefb1",
   "metadata": {},
   "outputs": [],
   "source": [
    "import numpy as np\n",
    "import pandas as pd\n",
    "pd.set_option('display.max_columns', None)\n",
    "import seaborn as sns\n",
    "import warnings\n",
    "warnings.filterwarnings('ignore')"
   ]
  },
  {
   "cell_type": "markdown",
   "id": "61b3324f",
   "metadata": {},
   "source": [
    "# LIMPIEZA CSV"
   ]
  },
  {
   "cell_type": "markdown",
   "id": "cac0b40a",
   "metadata": {},
   "source": [
    "**INVENTORY**"
   ]
  },
  {
   "cell_type": "code",
   "execution_count": 115,
   "id": "9a0accb5",
   "metadata": {},
   "outputs": [],
   "source": [
    "df = pd.read_csv('..\\\\..\\\\..\\\\ironhack\\\\w3-project_SQL\\\\data\\\\inventory.csv', encoding = 'latin-1')"
   ]
  },
  {
   "cell_type": "markdown",
   "id": "d89dd888",
   "metadata": {},
   "source": [
    "Cambiamos el tipo de dato de la columna 'last update' a datetime"
   ]
  },
  {
   "cell_type": "code",
   "execution_count": 116,
   "id": "b66a8f3c",
   "metadata": {},
   "outputs": [],
   "source": [
    "df['last_update'] = pd.to_datetime(df['last_update'])"
   ]
  },
  {
   "cell_type": "markdown",
   "id": "2981b221",
   "metadata": {},
   "source": [
    "Exportamos el archivo limpio"
   ]
  },
  {
   "cell_type": "code",
   "execution_count": 117,
   "id": "ccd0b6ef",
   "metadata": {},
   "outputs": [],
   "source": [
    "df.to_csv('inventory_limpio.csv', index = False)"
   ]
  },
  {
   "cell_type": "markdown",
   "id": "4f5402fb",
   "metadata": {},
   "source": [
    "**RENTAL**"
   ]
  },
  {
   "cell_type": "code",
   "execution_count": 118,
   "id": "c55c5f8c",
   "metadata": {},
   "outputs": [],
   "source": [
    "df1 = pd.read_csv('..\\\\..\\\\..\\\\ironhack\\\\w3-project_SQL\\\\data\\\\rental.csv', encoding = 'latin-1')"
   ]
  },
  {
   "cell_type": "markdown",
   "id": "8ad020d6",
   "metadata": {},
   "source": [
    "Igualamos la columna inventory para que coincida con \"films\""
   ]
  },
  {
   "cell_type": "code",
   "execution_count": 120,
   "id": "39708496",
   "metadata": {},
   "outputs": [],
   "source": [
    "df1 = df1[df1['inventory_id'] <= 1000]"
   ]
  },
  {
   "cell_type": "markdown",
   "id": "90755fcc",
   "metadata": {},
   "source": [
    "Cambiamos el datatype de algunos columnas a datetime"
   ]
  },
  {
   "cell_type": "code",
   "execution_count": 121,
   "id": "47e6c135",
   "metadata": {},
   "outputs": [],
   "source": [
    "df1['last_update'] = pd.to_datetime(df1['last_update'])\n",
    "df1['rental_date'] = pd.to_datetime(df1['rental_date'])\n",
    "df1['return_date'] = pd.to_datetime(df1['return_date'])"
   ]
  },
  {
   "cell_type": "markdown",
   "id": "2bd36e48",
   "metadata": {},
   "source": [
    "Creamos una nueva columna para saber cuántos días se ha alquilado cada película"
   ]
  },
  {
   "cell_type": "code",
   "execution_count": 122,
   "id": "458e8060",
   "metadata": {},
   "outputs": [],
   "source": [
    "df1['days'] = df1['return_date']-df1['rental_date']"
   ]
  },
  {
   "cell_type": "markdown",
   "id": "b94ec780",
   "metadata": {},
   "source": [
    "Exportamos el csv limpio"
   ]
  },
  {
   "cell_type": "code",
   "execution_count": 123,
   "id": "918ececa",
   "metadata": {},
   "outputs": [],
   "source": [
    "df1.to_csv('rental_limpio.csv', index = True)"
   ]
  },
  {
   "cell_type": "markdown",
   "id": "35301a10",
   "metadata": {},
   "source": [
    "**FILM**"
   ]
  },
  {
   "cell_type": "code",
   "execution_count": 124,
   "id": "5674db5f",
   "metadata": {},
   "outputs": [],
   "source": [
    "df2 = pd.read_csv('..\\\\..\\\\..\\\\ironhack\\\\w3-project_SQL\\\\data\\\\film.csv', encoding = 'latin-1')"
   ]
  },
  {
   "cell_type": "markdown",
   "id": "219e0cfb",
   "metadata": {},
   "source": [
    "Dividimos la tabla 'Special Features' en cuatro nuevas tablas para cada caso, con valores True o False en función de si las tienen."
   ]
  },
  {
   "cell_type": "code",
   "execution_count": 125,
   "id": "93bcfb9b",
   "metadata": {},
   "outputs": [],
   "source": [
    "df2['deleted scenes'] = df2['special_features'].str.contains('Deleted scenes')\n",
    "df2['commentaries'] = df2['special_features'].str.contains('Commentaries')\n",
    "df2['behind the scenes'] = df2['special_features'].str.contains('Behind the scenes')\n",
    "df2['trailers'] = df2['special_features'].str.contains('Trailers')\n",
    "\n",
    "\n",
    "df2[['deleted scenes', 'commentaries', 'behind the scenes', 'trailers']] = df2[['deleted scenes', 'commentaries', 'behind the scenes', 'trailers']].astype(bool)\n",
    "\n",
    "df2 = df2.drop('special_features', axis=1)\n"
   ]
  },
  {
   "cell_type": "markdown",
   "id": "36c74c47",
   "metadata": {},
   "source": [
    "Rellenamos los nulos de la columna de Original Language, ya que podríamos necesitarla en el futuro."
   ]
  },
  {
   "cell_type": "code",
   "execution_count": 126,
   "id": "7d587a93",
   "metadata": {},
   "outputs": [],
   "source": [
    "df2['original_language_id'] = df2['original_language_id'].fillna('Unknown')"
   ]
  },
  {
   "cell_type": "markdown",
   "id": "2a67756a",
   "metadata": {},
   "source": [
    "Convertimos la columna 'last_update' de objeto a datatime"
   ]
  },
  {
   "cell_type": "code",
   "execution_count": 127,
   "id": "35af036f",
   "metadata": {},
   "outputs": [],
   "source": [
    "df2['last_update'] = pd.to_datetime(df['last_update'])"
   ]
  },
  {
   "cell_type": "markdown",
   "id": "259f6719",
   "metadata": {},
   "source": [
    "Creamos una nueva tabla \"category_id\" importada desde \"old_hdd\""
   ]
  },
  {
   "cell_type": "code",
   "execution_count": 147,
   "id": "29210e43",
   "metadata": {},
   "outputs": [],
   "source": [
    "df2['category_id'] = df6['category_id']"
   ]
  },
  {
   "cell_type": "markdown",
   "id": "df03faf5",
   "metadata": {},
   "source": [
    "Exportamos el csv limpio"
   ]
  },
  {
   "cell_type": "code",
   "execution_count": 156,
   "id": "2407990f",
   "metadata": {},
   "outputs": [],
   "source": [
    "df2.to_csv('film_limpio.csv', index = False)"
   ]
  },
  {
   "cell_type": "markdown",
   "id": "8c09e555",
   "metadata": {},
   "source": [
    "**ACTOR**"
   ]
  },
  {
   "cell_type": "code",
   "execution_count": 130,
   "id": "c15ad5c0",
   "metadata": {},
   "outputs": [],
   "source": [
    "df3 = pd.read_csv('..\\\\..\\\\..\\\\ironhack\\\\w3-project_SQL\\\\data\\\\actor.csv', encoding = 'latin-1')"
   ]
  },
  {
   "cell_type": "markdown",
   "id": "62381d51",
   "metadata": {},
   "source": [
    "Dropeamos los duplicados en la tabla"
   ]
  },
  {
   "cell_type": "code",
   "execution_count": 131,
   "id": "4cb7e6ba",
   "metadata": {},
   "outputs": [],
   "source": [
    "df3 = df3.drop_duplicates(subset=['first_name', 'last_name'])"
   ]
  },
  {
   "cell_type": "markdown",
   "id": "1e12f90c",
   "metadata": {},
   "source": [
    "Cambiamos el tipo de dato de la columna 'last update' a datetime"
   ]
  },
  {
   "cell_type": "code",
   "execution_count": 132,
   "id": "4c79292d",
   "metadata": {},
   "outputs": [],
   "source": [
    "df3['last_update'] = pd.to_datetime(df3['last_update'])"
   ]
  },
  {
   "cell_type": "markdown",
   "id": "048429d9",
   "metadata": {},
   "source": [
    "Exportamos el archivo limpio"
   ]
  },
  {
   "cell_type": "code",
   "execution_count": 134,
   "id": "1b0e389c",
   "metadata": {},
   "outputs": [],
   "source": [
    "df3.to_csv('actor_limpio.csv', index = False)"
   ]
  },
  {
   "cell_type": "markdown",
   "id": "fee062e0",
   "metadata": {},
   "source": [
    "**CATEGORY**"
   ]
  },
  {
   "cell_type": "code",
   "execution_count": 135,
   "id": "599c43db",
   "metadata": {},
   "outputs": [],
   "source": [
    "df4 = pd.read_csv('..\\\\..\\\\..\\\\ironhack\\\\w3-project_SQL\\\\data\\\\category.csv', encoding = 'latin-1')"
   ]
  },
  {
   "cell_type": "markdown",
   "id": "bbf55496",
   "metadata": {},
   "source": [
    "Dropeamos la columna 'last update' ya que no nos es útil en este caso"
   ]
  },
  {
   "cell_type": "code",
   "execution_count": 136,
   "id": "7d774c5d",
   "metadata": {},
   "outputs": [],
   "source": [
    "df4 = df4.drop(['last_update'], axis=1)"
   ]
  },
  {
   "cell_type": "markdown",
   "id": "639ca4df",
   "metadata": {},
   "source": [
    "Exportamos el archivo limpio"
   ]
  },
  {
   "cell_type": "code",
   "execution_count": 137,
   "id": "ccc584b7",
   "metadata": {},
   "outputs": [],
   "source": [
    "df4.to_csv('category_limpio.csv',index = False)"
   ]
  },
  {
   "cell_type": "markdown",
   "id": "4e062258",
   "metadata": {},
   "source": [
    "**LANGUAGE**"
   ]
  },
  {
   "cell_type": "code",
   "execution_count": 138,
   "id": "9afa6314",
   "metadata": {},
   "outputs": [],
   "source": [
    "df5 = pd.read_csv('..\\\\..\\\\..\\\\ironhack\\\\w3-project_SQL\\\\data\\\\language.csv', encoding = 'latin-1')"
   ]
  },
  {
   "cell_type": "markdown",
   "id": "663980bd",
   "metadata": {},
   "source": [
    "Cambiamos el datatype de 'last_update' a datetime"
   ]
  },
  {
   "cell_type": "code",
   "execution_count": 139,
   "id": "52763121",
   "metadata": {},
   "outputs": [],
   "source": [
    "df5['last_update'] = pd.to_datetime(df5['last_update'])"
   ]
  },
  {
   "cell_type": "markdown",
   "id": "05e17a34",
   "metadata": {},
   "source": [
    "Exportamos el archivo"
   ]
  },
  {
   "cell_type": "code",
   "execution_count": 140,
   "id": "8dce7b37",
   "metadata": {},
   "outputs": [],
   "source": [
    "df5.to_csv('language_limpio.csv', index = False)"
   ]
  },
  {
   "cell_type": "markdown",
   "id": "0325c09d",
   "metadata": {},
   "source": [
    "**OLD HDD**"
   ]
  },
  {
   "cell_type": "code",
   "execution_count": 141,
   "id": "46a32d46",
   "metadata": {},
   "outputs": [],
   "source": [
    "df6 = pd.read_csv('..\\\\..\\\\..\\\\ironhack\\\\w3-project_SQL\\\\data\\\\old_hdd.csv', encoding = 'latin-1')"
   ]
  },
  {
   "cell_type": "markdown",
   "id": "c7d9d69e",
   "metadata": {},
   "source": [
    "Exportamos el archivo"
   ]
  },
  {
   "cell_type": "code",
   "execution_count": 143,
   "id": "84b04518",
   "metadata": {},
   "outputs": [],
   "source": [
    "df6.to_csv('old.hdd.csv', index = False)"
   ]
  }
 ],
 "metadata": {
  "kernelspec": {
   "display_name": "Python 3 (ipykernel)",
   "language": "python",
   "name": "python3"
  },
  "language_info": {
   "codemirror_mode": {
    "name": "ipython",
    "version": 3
   },
   "file_extension": ".py",
   "mimetype": "text/x-python",
   "name": "python",
   "nbconvert_exporter": "python",
   "pygments_lexer": "ipython3",
   "version": "3.11.4"
  }
 },
 "nbformat": 4,
 "nbformat_minor": 5
}
